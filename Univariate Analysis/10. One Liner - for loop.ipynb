{
 "cells": [
  {
   "cell_type": "markdown",
   "id": "18f81418-05ed-42fa-bd33-d4acb5d68a07",
   "metadata": {},
   "source": [
    "### for loop in 3 lines of code"
   ]
  },
  {
   "cell_type": "code",
   "execution_count": 2,
   "id": "2b8357cb-9646-43f3-8feb-cab3a1e5f598",
   "metadata": {},
   "outputs": [],
   "source": [
    "values = []\n",
    "for value in range(40,50):\n",
    "    values.append(value)"
   ]
  },
  {
   "cell_type": "code",
   "execution_count": 3,
   "id": "0664b778-f310-4245-bd4a-9a91e498a644",
   "metadata": {},
   "outputs": [
    {
     "data": {
      "text/plain": [
       "[40, 41, 42, 43, 44, 45, 46, 47, 48, 49]"
      ]
     },
     "execution_count": 3,
     "metadata": {},
     "output_type": "execute_result"
    }
   ],
   "source": [
    "values"
   ]
  },
  {
   "cell_type": "markdown",
   "id": "3d2365a5-a013-4e17-aa55-97723be8f50c",
   "metadata": {},
   "source": [
    "### ame for loop in 1 line of code"
   ]
  },
  {
   "cell_type": "code",
   "execution_count": 4,
   "id": "4925dafa-336b-4976-ab1d-e6126cac75f1",
   "metadata": {},
   "outputs": [],
   "source": [
    "values = [value for value in range(40,50)]"
   ]
  },
  {
   "cell_type": "code",
   "execution_count": 5,
   "id": "96b56870-8a80-4cff-bdfa-c7c4a79bc722",
   "metadata": {},
   "outputs": [
    {
     "data": {
      "text/plain": [
       "[40, 41, 42, 43, 44, 45, 46, 47, 48, 49]"
      ]
     },
     "execution_count": 5,
     "metadata": {},
     "output_type": "execute_result"
    }
   ],
   "source": [
    "values"
   ]
  },
  {
   "cell_type": "code",
   "execution_count": null,
   "id": "1e9057ff-61ed-4abe-a641-7c0285f68315",
   "metadata": {},
   "outputs": [],
   "source": []
  }
 ],
 "metadata": {
  "kernelspec": {
   "display_name": "Python 3 (ipykernel)",
   "language": "python",
   "name": "python3"
  },
  "language_info": {
   "codemirror_mode": {
    "name": "ipython",
    "version": 3
   },
   "file_extension": ".py",
   "mimetype": "text/x-python",
   "name": "python",
   "nbconvert_exporter": "python",
   "pygments_lexer": "ipython3",
   "version": "3.12.4"
  }
 },
 "nbformat": 4,
 "nbformat_minor": 5
}
