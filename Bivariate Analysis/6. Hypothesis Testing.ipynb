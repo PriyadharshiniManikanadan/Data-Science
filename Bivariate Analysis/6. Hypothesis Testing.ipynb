{
 "cells": [
  {
   "cell_type": "markdown",
   "id": "254863bd-9551-4d44-a700-e36cf07f925f",
   "metadata": {},
   "source": [
    "# Hypothesis Testing \n",
    "## Pattern\n",
    "##### 1. Statement\n",
    "##### 2. State the Hypothesis (Null hypothesis & Alternate hypothesis)\n",
    "##### 3. Select a Significance Level\n",
    "##### 4. Compute the Test Statistic (t-test in this problem statement). Basically it can be any metric (Univariate or Bivariate)\n",
    "##### 5. Determine the p-value\n",
    "##### 6. Make a Decision\n",
    "##### 7. Interpret the Results"
   ]
  },
  {
   "cell_type": "code",
   "execution_count": 3,
   "id": "cf61a702-5f4a-48d2-9185-0a51aafbc51c",
   "metadata": {},
   "outputs": [],
   "source": [
    "import pandas as pd "
   ]
  },
  {
   "cell_type": "code",
   "execution_count": 4,
   "id": "2f5a34af-2ea7-40ab-8c79-4bbf203f9931",
   "metadata": {},
   "outputs": [],
   "source": [
    "dataset=pd.read_csv('PrePlacement.csv')"
   ]
  },
  {
   "cell_type": "code",
   "execution_count": 5,
   "id": "244cf0fb-1e6b-4991-b637-e797819e10f7",
   "metadata": {},
   "outputs": [
    {
     "data": {
      "text/html": [
       "<div>\n",
       "<style scoped>\n",
       "    .dataframe tbody tr th:only-of-type {\n",
       "        vertical-align: middle;\n",
       "    }\n",
       "\n",
       "    .dataframe tbody tr th {\n",
       "        vertical-align: top;\n",
       "    }\n",
       "\n",
       "    .dataframe thead th {\n",
       "        text-align: right;\n",
       "    }\n",
       "</style>\n",
       "<table border=\"1\" class=\"dataframe\">\n",
       "  <thead>\n",
       "    <tr style=\"text-align: right;\">\n",
       "      <th></th>\n",
       "      <th>sl_no</th>\n",
       "      <th>gender</th>\n",
       "      <th>ssc_p</th>\n",
       "      <th>ssc_b</th>\n",
       "      <th>hsc_p</th>\n",
       "      <th>hsc_b</th>\n",
       "      <th>hsc_s</th>\n",
       "      <th>degree_p</th>\n",
       "      <th>degree_t</th>\n",
       "      <th>workex</th>\n",
       "      <th>etest_p</th>\n",
       "      <th>specialisation</th>\n",
       "      <th>mba_p</th>\n",
       "      <th>status</th>\n",
       "      <th>salary</th>\n",
       "    </tr>\n",
       "  </thead>\n",
       "  <tbody>\n",
       "    <tr>\n",
       "      <th>0</th>\n",
       "      <td>1</td>\n",
       "      <td>M</td>\n",
       "      <td>67.00</td>\n",
       "      <td>Others</td>\n",
       "      <td>91.00</td>\n",
       "      <td>Others</td>\n",
       "      <td>Commerce</td>\n",
       "      <td>58.00</td>\n",
       "      <td>Sci&amp;Tech</td>\n",
       "      <td>No</td>\n",
       "      <td>55.0</td>\n",
       "      <td>Mkt&amp;HR</td>\n",
       "      <td>58.80</td>\n",
       "      <td>Placed</td>\n",
       "      <td>270000.0</td>\n",
       "    </tr>\n",
       "    <tr>\n",
       "      <th>1</th>\n",
       "      <td>2</td>\n",
       "      <td>M</td>\n",
       "      <td>79.33</td>\n",
       "      <td>Central</td>\n",
       "      <td>78.33</td>\n",
       "      <td>Others</td>\n",
       "      <td>Science</td>\n",
       "      <td>77.48</td>\n",
       "      <td>Sci&amp;Tech</td>\n",
       "      <td>Yes</td>\n",
       "      <td>86.5</td>\n",
       "      <td>Mkt&amp;Fin</td>\n",
       "      <td>66.28</td>\n",
       "      <td>Placed</td>\n",
       "      <td>200000.0</td>\n",
       "    </tr>\n",
       "    <tr>\n",
       "      <th>2</th>\n",
       "      <td>3</td>\n",
       "      <td>M</td>\n",
       "      <td>65.00</td>\n",
       "      <td>Central</td>\n",
       "      <td>68.00</td>\n",
       "      <td>Central</td>\n",
       "      <td>Arts</td>\n",
       "      <td>64.00</td>\n",
       "      <td>Comm&amp;Mgmt</td>\n",
       "      <td>No</td>\n",
       "      <td>75.0</td>\n",
       "      <td>Mkt&amp;Fin</td>\n",
       "      <td>57.80</td>\n",
       "      <td>Placed</td>\n",
       "      <td>250000.0</td>\n",
       "    </tr>\n",
       "    <tr>\n",
       "      <th>3</th>\n",
       "      <td>4</td>\n",
       "      <td>M</td>\n",
       "      <td>56.00</td>\n",
       "      <td>Central</td>\n",
       "      <td>52.00</td>\n",
       "      <td>Central</td>\n",
       "      <td>Science</td>\n",
       "      <td>52.00</td>\n",
       "      <td>Sci&amp;Tech</td>\n",
       "      <td>No</td>\n",
       "      <td>66.0</td>\n",
       "      <td>Mkt&amp;HR</td>\n",
       "      <td>59.43</td>\n",
       "      <td>Not Placed</td>\n",
       "      <td>0.0</td>\n",
       "    </tr>\n",
       "    <tr>\n",
       "      <th>4</th>\n",
       "      <td>5</td>\n",
       "      <td>M</td>\n",
       "      <td>85.80</td>\n",
       "      <td>Central</td>\n",
       "      <td>73.60</td>\n",
       "      <td>Central</td>\n",
       "      <td>Commerce</td>\n",
       "      <td>73.30</td>\n",
       "      <td>Comm&amp;Mgmt</td>\n",
       "      <td>No</td>\n",
       "      <td>96.8</td>\n",
       "      <td>Mkt&amp;Fin</td>\n",
       "      <td>55.50</td>\n",
       "      <td>Placed</td>\n",
       "      <td>425000.0</td>\n",
       "    </tr>\n",
       "    <tr>\n",
       "      <th>...</th>\n",
       "      <td>...</td>\n",
       "      <td>...</td>\n",
       "      <td>...</td>\n",
       "      <td>...</td>\n",
       "      <td>...</td>\n",
       "      <td>...</td>\n",
       "      <td>...</td>\n",
       "      <td>...</td>\n",
       "      <td>...</td>\n",
       "      <td>...</td>\n",
       "      <td>...</td>\n",
       "      <td>...</td>\n",
       "      <td>...</td>\n",
       "      <td>...</td>\n",
       "      <td>...</td>\n",
       "    </tr>\n",
       "    <tr>\n",
       "      <th>210</th>\n",
       "      <td>211</td>\n",
       "      <td>M</td>\n",
       "      <td>80.60</td>\n",
       "      <td>Others</td>\n",
       "      <td>82.00</td>\n",
       "      <td>Others</td>\n",
       "      <td>Commerce</td>\n",
       "      <td>77.60</td>\n",
       "      <td>Comm&amp;Mgmt</td>\n",
       "      <td>No</td>\n",
       "      <td>91.0</td>\n",
       "      <td>Mkt&amp;Fin</td>\n",
       "      <td>74.49</td>\n",
       "      <td>Placed</td>\n",
       "      <td>400000.0</td>\n",
       "    </tr>\n",
       "    <tr>\n",
       "      <th>211</th>\n",
       "      <td>212</td>\n",
       "      <td>M</td>\n",
       "      <td>58.00</td>\n",
       "      <td>Others</td>\n",
       "      <td>60.00</td>\n",
       "      <td>Others</td>\n",
       "      <td>Science</td>\n",
       "      <td>72.00</td>\n",
       "      <td>Sci&amp;Tech</td>\n",
       "      <td>No</td>\n",
       "      <td>74.0</td>\n",
       "      <td>Mkt&amp;Fin</td>\n",
       "      <td>53.62</td>\n",
       "      <td>Placed</td>\n",
       "      <td>275000.0</td>\n",
       "    </tr>\n",
       "    <tr>\n",
       "      <th>212</th>\n",
       "      <td>213</td>\n",
       "      <td>M</td>\n",
       "      <td>67.00</td>\n",
       "      <td>Others</td>\n",
       "      <td>67.00</td>\n",
       "      <td>Others</td>\n",
       "      <td>Commerce</td>\n",
       "      <td>73.00</td>\n",
       "      <td>Comm&amp;Mgmt</td>\n",
       "      <td>Yes</td>\n",
       "      <td>59.0</td>\n",
       "      <td>Mkt&amp;Fin</td>\n",
       "      <td>69.72</td>\n",
       "      <td>Placed</td>\n",
       "      <td>295000.0</td>\n",
       "    </tr>\n",
       "    <tr>\n",
       "      <th>213</th>\n",
       "      <td>214</td>\n",
       "      <td>F</td>\n",
       "      <td>74.00</td>\n",
       "      <td>Others</td>\n",
       "      <td>66.00</td>\n",
       "      <td>Others</td>\n",
       "      <td>Commerce</td>\n",
       "      <td>58.00</td>\n",
       "      <td>Comm&amp;Mgmt</td>\n",
       "      <td>No</td>\n",
       "      <td>70.0</td>\n",
       "      <td>Mkt&amp;HR</td>\n",
       "      <td>60.23</td>\n",
       "      <td>Placed</td>\n",
       "      <td>204000.0</td>\n",
       "    </tr>\n",
       "    <tr>\n",
       "      <th>214</th>\n",
       "      <td>215</td>\n",
       "      <td>M</td>\n",
       "      <td>62.00</td>\n",
       "      <td>Central</td>\n",
       "      <td>58.00</td>\n",
       "      <td>Others</td>\n",
       "      <td>Science</td>\n",
       "      <td>53.00</td>\n",
       "      <td>Comm&amp;Mgmt</td>\n",
       "      <td>No</td>\n",
       "      <td>89.0</td>\n",
       "      <td>Mkt&amp;HR</td>\n",
       "      <td>60.22</td>\n",
       "      <td>Not Placed</td>\n",
       "      <td>0.0</td>\n",
       "    </tr>\n",
       "  </tbody>\n",
       "</table>\n",
       "<p>215 rows × 15 columns</p>\n",
       "</div>"
      ],
      "text/plain": [
       "     sl_no gender  ssc_p    ssc_b  hsc_p    hsc_b     hsc_s  degree_p  \\\n",
       "0        1      M  67.00   Others  91.00   Others  Commerce     58.00   \n",
       "1        2      M  79.33  Central  78.33   Others   Science     77.48   \n",
       "2        3      M  65.00  Central  68.00  Central      Arts     64.00   \n",
       "3        4      M  56.00  Central  52.00  Central   Science     52.00   \n",
       "4        5      M  85.80  Central  73.60  Central  Commerce     73.30   \n",
       "..     ...    ...    ...      ...    ...      ...       ...       ...   \n",
       "210    211      M  80.60   Others  82.00   Others  Commerce     77.60   \n",
       "211    212      M  58.00   Others  60.00   Others   Science     72.00   \n",
       "212    213      M  67.00   Others  67.00   Others  Commerce     73.00   \n",
       "213    214      F  74.00   Others  66.00   Others  Commerce     58.00   \n",
       "214    215      M  62.00  Central  58.00   Others   Science     53.00   \n",
       "\n",
       "      degree_t workex  etest_p specialisation  mba_p      status    salary  \n",
       "0     Sci&Tech     No     55.0         Mkt&HR  58.80      Placed  270000.0  \n",
       "1     Sci&Tech    Yes     86.5        Mkt&Fin  66.28      Placed  200000.0  \n",
       "2    Comm&Mgmt     No     75.0        Mkt&Fin  57.80      Placed  250000.0  \n",
       "3     Sci&Tech     No     66.0         Mkt&HR  59.43  Not Placed       0.0  \n",
       "4    Comm&Mgmt     No     96.8        Mkt&Fin  55.50      Placed  425000.0  \n",
       "..         ...    ...      ...            ...    ...         ...       ...  \n",
       "210  Comm&Mgmt     No     91.0        Mkt&Fin  74.49      Placed  400000.0  \n",
       "211   Sci&Tech     No     74.0        Mkt&Fin  53.62      Placed  275000.0  \n",
       "212  Comm&Mgmt    Yes     59.0        Mkt&Fin  69.72      Placed  295000.0  \n",
       "213  Comm&Mgmt     No     70.0         Mkt&HR  60.23      Placed  204000.0  \n",
       "214  Comm&Mgmt     No     89.0         Mkt&HR  60.22  Not Placed       0.0  \n",
       "\n",
       "[215 rows x 15 columns]"
      ]
     },
     "execution_count": 5,
     "metadata": {},
     "output_type": "execute_result"
    }
   ],
   "source": [
    "dataset"
   ]
  },
  {
   "cell_type": "markdown",
   "id": "d399e654-6587-434f-86c5-cdd293f76361",
   "metadata": {},
   "source": [
    "### Statement"
   ]
  },
  {
   "cell_type": "markdown",
   "id": "a041b9e6-ff1b-47a0-bccc-107ce266bef4",
   "metadata": {},
   "source": [
    "Question : Test whether ssc_p of male and hsc_p of male is same?\n",
    "\n",
    "Here in this case - It is Paired T-Test / Dependent Sample / same group & different conditions"
   ]
  },
  {
   "cell_type": "markdown",
   "id": "c2005e3e-8139-443f-a6c0-85771b10c677",
   "metadata": {},
   "source": [
    "### State the Hypothesis"
   ]
  },
  {
   "cell_type": "markdown",
   "id": "20000517-4340-416a-b248-e68eef10492a",
   "metadata": {},
   "source": [
    "Null hypothesis = There is no similarity between 10th pass mark & 12th pass mark of male\n",
    "\n",
    "Alternate hypothesis = There is similairty between 10th pass mark and 12th mark of male"
   ]
  },
  {
   "cell_type": "markdown",
   "id": "dae1023e-0a54-44b3-856d-15d62615e2af",
   "metadata": {},
   "source": [
    "### Select a Significance Level"
   ]
  },
  {
   "cell_type": "markdown",
   "id": "419d843b-c1cf-4582-a8f1-89d46ca5a7db",
   "metadata": {},
   "source": [
    "If p < 0.05, Reject the null hypothesis automatically accept the alternate hypothesis --> There is  _____ \n",
    "\n",
    "If p > 0.05, Accept null hypothesis --> There is no ______"
   ]
  },
  {
   "cell_type": "markdown",
   "id": "9b5a40a3-d326-4e57-a6b6-1876d9b6fc96",
   "metadata": {},
   "source": [
    "### Compute the Test Statistic "
   ]
  },
  {
   "cell_type": "code",
   "execution_count": 6,
   "id": "83ecaa41-36b1-47e1-a2fd-5a8b8b787c6d",
   "metadata": {},
   "outputs": [
    {
     "data": {
      "text/plain": [
       "TtestResult(statistic=0.6842940392688153, pvalue=0.4949370716000775, df=138)"
      ]
     },
     "execution_count": 6,
     "metadata": {},
     "output_type": "execute_result"
    }
   ],
   "source": [
    "from scipy.stats import ttest_rel\n",
    "Male = dataset[dataset['gender']=='M']['ssc_p']\n",
    "male1 = dataset[dataset['gender']=='M']['hsc_p']\n",
    "ttest_rel(Male,male1)"
   ]
  },
  {
   "cell_type": "markdown",
   "id": "702523a5-d446-44b6-a436-160d87e0ff25",
   "metadata": {},
   "source": [
    "### Determine the p-value"
   ]
  },
  {
   "cell_type": "markdown",
   "id": "fca83a30-e0bc-47ec-af8f-bc1690ada11b",
   "metadata": {},
   "source": [
    "P-vlaue = 0.49\n",
    "p > 0.05 "
   ]
  },
  {
   "cell_type": "markdown",
   "id": "be058e59-1a9e-44a1-9644-7675f09b37f4",
   "metadata": {},
   "source": [
    "### Make a Decision"
   ]
  },
  {
   "cell_type": "markdown",
   "id": "c885ceb0-52af-42ef-9a95-c09fdff4a649",
   "metadata": {},
   "source": [
    "Accept the Null Hypothesis"
   ]
  },
  {
   "cell_type": "markdown",
   "id": "14f21c4a-86fd-4f3a-b0cf-45f4b741aad4",
   "metadata": {},
   "source": [
    "### Interpret the Results"
   ]
  },
  {
   "cell_type": "markdown",
   "id": "6f930151-7631-4d9f-8ab7-fc987b8fdda0",
   "metadata": {},
   "source": [
    "There is a no similarity between 10th pass mark of male and 12th pass mark of male"
   ]
  },
  {
   "cell_type": "markdown",
   "id": "7e3c03c7-79b9-42e0-9fd1-95d559833bfb",
   "metadata": {},
   "source": [
    "## Unpaired T-Test - Independent Sample \n",
    "### RULE : Different Groups & Same condition"
   ]
  },
  {
   "cell_type": "markdown",
   "id": "4575292c-4265-44b4-b16f-56819ecdf4e4",
   "metadata": {},
   "source": [
    "##### Example : Diff Groups : gender = Male & Female , One Condition : salary"
   ]
  },
  {
   "cell_type": "code",
   "execution_count": 4,
   "id": "6ec83c59-01bf-47f4-a90f-899752a89132",
   "metadata": {},
   "outputs": [
    {
     "data": {
      "text/plain": [
       "TtestResult(statistic=2.0937842507001165, pvalue=0.03746230397067219, df=213.0)"
      ]
     },
     "execution_count": 4,
     "metadata": {},
     "output_type": "execute_result"
    }
   ],
   "source": [
    "from scipy.stats import ttest_ind\n",
    "male = dataset[dataset['gender'] == 'M']['salary']\n",
    "female = dataset[dataset['gender'] == 'F']['salary']\n",
    "ttest_ind(male,female)"
   ]
  },
  {
   "cell_type": "markdown",
   "id": "0bb533a5-76d7-4219-9855-0ab3bd7fd2d0",
   "metadata": {},
   "source": [
    "Inference : \n",
    "\n",
    "T-Test = 2.09 , Both Male & Female have high similarity in salary range\n",
    "\n",
    "P-Value = 0.03 = 3%, less than 0.05 = 5%, so we can consider the P-Value. we will reject the null hypothesis, accept the alternate hypothesis \n",
    "\n",
    "there is a similarity between MAle & Female based on salary"
   ]
  },
  {
   "cell_type": "markdown",
   "id": "789fa08e-f994-4d54-a7eb-237d486f182d",
   "metadata": {},
   "source": [
    "##### Example : Diff Groups : hsc_b = Others, Central , One Condition - salary"
   ]
  },
  {
   "cell_type": "code",
   "execution_count": 5,
   "id": "6b88baa8-b01d-40f0-9e92-6090a47a8080",
   "metadata": {},
   "outputs": [
    {
     "data": {
      "text/plain": [
       "TtestResult(statistic=-0.30570032095155825, pvalue=0.7601313863865756, df=213.0)"
      ]
     },
     "execution_count": 5,
     "metadata": {},
     "output_type": "execute_result"
    }
   ],
   "source": [
    "central = dataset[dataset['hsc_b'] == 'Central']['salary']\n",
    "others = dataset[dataset['hsc_b'] == 'Others']['salary']\n",
    "ttest_ind(central,others)"
   ]
  },
  {
   "cell_type": "markdown",
   "id": "436f26c9-b508-4c95-92f3-a1480797f34d",
   "metadata": {},
   "source": [
    "Inference : \n",
    "\n",
    "A negative value for the T_Test indicates that the mean of the first group is slightly smaller than the mean of the second group, but the difference is very small (since the value is close to zero).\n",
    "\n",
    "T-Test = -0.30, Both Central & Other boards are showing small differences/ high similarities when compared with salary\n",
    "\n",
    "P-Value = 0.76 = 76%, greater than 5%, we will accept the null hypothesis, There is no similarity in salary based on education standards."
   ]
  },
  {
   "cell_type": "markdown",
   "id": "ef6ff1ff-8a6e-41fd-bae4-f86283f304aa",
   "metadata": {},
   "source": [
    "## Paired T-Test - Dependent Sample\n",
    "### RULE : Same Group & Different conditions"
   ]
  },
  {
   "cell_type": "markdown",
   "id": "f870c151-f3cd-4a77-8b2c-8bd6746a212a",
   "metadata": {},
   "source": [
    "##### Example : One Group : gender = Male , Diff Conditions : hsc_p, ssc_p"
   ]
  },
  {
   "cell_type": "code",
   "execution_count": 6,
   "id": "f292588e-5560-4721-a2c5-1dc02c11ee10",
   "metadata": {},
   "outputs": [
    {
     "data": {
      "text/plain": [
       "TtestResult(statistic=-0.4609004016724563, pvalue=0.6452330329980636, df=276.0)"
      ]
     },
     "execution_count": 6,
     "metadata": {},
     "output_type": "execute_result"
    }
   ],
   "source": [
    "from scipy.stats import ttest_rel\n",
    "male = dataset[dataset['gender'] == 'M']['hsc_p']\n",
    "male1 = dataset[dataset['gender'] == 'M']['ssc_p']\n",
    "ttest_ind(male,male1)"
   ]
  },
  {
   "cell_type": "markdown",
   "id": "a83591cd-a256-4e11-8556-98226664a107",
   "metadata": {},
   "source": [
    "Inference : \n",
    "\n",
    "A negative value for the T_Test indicates that the mean of the first group is slightly smaller than the mean of the second group, but the difference is very small (since the value is close to zero).\n",
    "\n",
    "T-Test = -0.46, In both 10th & 12th percentages, Male scores are very similar with very low differences. \n",
    "\n",
    "P-Value = 0.64 = 64%, greater than 5%, so we will accept the null hypothesis, which shows there is no similarity between the 10th & 12th percentages for males."
   ]
  },
  {
   "cell_type": "markdown",
   "id": "1cd43332-db79-45de-a2cd-63bdf352f80e",
   "metadata": {},
   "source": [
    "##### Example : One Group :  hsc_s = commerce, Diff Conditions : mba_p, etest_p"
   ]
  },
  {
   "cell_type": "code",
   "execution_count": 7,
   "id": "23d5fbb6-b98f-486f-b9e4-ac015af7d017",
   "metadata": {},
   "outputs": [
    {
     "data": {
      "text/plain": [
       "TtestResult(statistic=-7.079422262550767, pvalue=1.844299454870846e-11, df=224.0)"
      ]
     },
     "execution_count": 7,
     "metadata": {},
     "output_type": "execute_result"
    }
   ],
   "source": [
    "from scipy.stats import ttest_rel\n",
    "commerce = dataset[dataset['hsc_s'] == 'Commerce']['mba_p']\n",
    "commerce1 = dataset[dataset['hsc_s'] == 'Commerce']['etest_p']\n",
    "ttest_ind(commerce,commerce1)"
   ]
  },
  {
   "cell_type": "markdown",
   "id": "b793513a-25db-4321-bed6-f2ed5c9091d6",
   "metadata": {},
   "source": [
    "Inference : \n",
    "\n",
    "A negative value for the T_Test indicates that the mean of the first group is slightly smaller than the mean of the second group, but the difference is \n",
    "very small \n",
    "\n",
    "T-Test = -7.07,  Percentages in mba & etest for the students who took commerce group in 12th std shows similar results in majority with fewer differences. \n",
    "\n",
    "P-Value = 1.84, greater than 5%, so we will accept the hypothesis, which shows there are no similarity between MBA & etest percentages for commerce students."
   ]
  },
  {
   "cell_type": "code",
   "execution_count": null,
   "id": "250d897a-e736-45aa-be5f-9832fceb54ce",
   "metadata": {},
   "outputs": [],
   "source": []
  }
 ],
 "metadata": {
  "kernelspec": {
   "display_name": "Python 3 (ipykernel)",
   "language": "python",
   "name": "python3"
  },
  "language_info": {
   "codemirror_mode": {
    "name": "ipython",
    "version": 3
   },
   "file_extension": ".py",
   "mimetype": "text/x-python",
   "name": "python",
   "nbconvert_exporter": "python",
   "pygments_lexer": "ipython3",
   "version": "3.12.4"
  }
 },
 "nbformat": 4,
 "nbformat_minor": 5
}
